{
  "nbformat": 4,
  "nbformat_minor": 0,
  "metadata": {
    "colab": {
      "provenance": []
    },
    "kernelspec": {
      "name": "python3",
      "display_name": "Python 3"
    },
    "language_info": {
      "name": "python"
    }
  },
  "cells": [
    {
      "cell_type": "markdown",
      "source": [
        "# Neuron\n",
        "\n",
        "The basic unit of a neural network is a neuron/node. to understand how a neural network works we need to understand the fundamentals. here is basic implementation of a neuron."
      ],
      "metadata": {
        "id": "9MjHSczfReCh"
      }
    },
    {
      "cell_type": "code",
      "execution_count": 1,
      "metadata": {
        "colab": {
          "base_uri": "https://localhost:8080/"
        },
        "id": "Bs_reyOQRV2Y",
        "outputId": "666e4108-3cf5-4d59-a3e7-ffbf490d1b2f"
      },
      "outputs": [
        {
          "output_type": "stream",
          "name": "stdout",
          "text": [
            "Neuron output: 0.574442516811659\n"
          ]
        }
      ],
      "source": [
        "import numpy as np\n",
        "\n",
        "class Neuron:\n",
        "    def __init__(self, weights, bias):\n",
        "        \"\"\"\n",
        "        Initialize a neuron with given weights and bias\n",
        "\n",
        "        Args:\n",
        "            weights (list): List of input weights\n",
        "            bias (float): Bias term\n",
        "        \"\"\"\n",
        "        self.weights = np.array(weights)\n",
        "        self.bias = bias\n",
        "\n",
        "    def sigmoid(self, x):\n",
        "        \"\"\"Simple sigmoid activation function\"\"\"\n",
        "        return 1 / (1 + np.exp(-x))\n",
        "\n",
        "    def compute(self, inputs):\n",
        "        \"\"\"\n",
        "        Compute neuron output\n",
        "\n",
        "        Args:\n",
        "            inputs (list): Input values\n",
        "\n",
        "        Returns:\n",
        "            float: Neuron's output\n",
        "        \"\"\"\n",
        "        # Calculate weighted sum and add bias\n",
        "        weighted_sum = np.dot(inputs, self.weights) + self.bias\n",
        "        # Apply activation function\n",
        "        output = self.sigmoid(weighted_sum)\n",
        "        return output\n",
        "\n",
        "# Example usage\n",
        "weights = [0.5, 0.5]  # Example weights\n",
        "bias = -0.2          # Example bias\n",
        "inputs = [1, 0]      # Example inputs\n",
        "\n",
        "neuron = Neuron(weights, bias)\n",
        "output = neuron.compute(inputs)\n",
        "print(f\"Neuron output: {output}\")"
      ]
    }
  ]
}